{
 "cells": [
  {
   "cell_type": "code",
   "execution_count": 1,
   "metadata": {},
   "outputs": [],
   "source": [
    "import numpy as np\n",
    "\n",
    "def sigmoid(x):\n",
    "\treturn 1/(1+np.exp(-x))\n",
    "\n",
    "def d_sigmoid(x):\n",
    "    f = sigmoid(x)\n",
    "    return f*(1-f)\n",
    "\n",
    "# Создание учебных данных\n",
    "X_init = [[np.random.random(), np.random.random()] for i in range(5000)]\n",
    "y_true = []\n",
    "for i in range(5000):\n",
    "    y_true.append(X_init[i].copy())\n",
    "    X_init[i].reverse()\n",
    "X_init = np.array(X_init)\n",
    "y_true = np.array(y_true)\n",
    "\n",
    "\n",
    "\n",
    "class OurNeuralNetwork:\n",
    "\n",
    "    def __init__(self):\n",
    "        \n",
    "        self.hide_1 = Neuron_layer(2*np.random.random((2,4)) - 1)\n",
    "        self.hide_2 = Neuron_layer(2*np.random.random((4,4)) - 1)\n",
    "        self.out = Neuron_layer(2*np.random.random((4,2)) - 1)\n",
    "    #вычисление одного прохода сети\n",
    "    def feedforward(self, x):\n",
    "        out_h1 = self.hide_1.feedforward(x)\n",
    "        out_h2 = self.hide_2.feedforward(np.array(out_h1))\n",
    "        out_o = self.out.feedforward(np.array(out_h2))\n",
    " \n",
    "        return out_o\n",
    "\n",
    "#Класс нейронного слоя. Количество нейронов задается матрицей весов\n",
    "class Neuron_layer:\n",
    "    def __init__(self, weights):\n",
    "        self.weights = weights\n",
    "        self.prev = weights\n",
    "    #вычислене значения на нейроне\n",
    "    def feedforward(self, inputs):\n",
    "\n",
    "        self.prev = np.dot(inputs, self.weights )\n",
    "        return sigmoid(self.prev)"
   ]
  },
  {
   "cell_type": "code",
   "execution_count": 2,
   "metadata": {
    "scrolled": true
   },
   "outputs": [
    {
     "name": "stderr",
     "output_type": "stream",
     "text": [
      "<ipython-input-1-3a00888e56c9>:4: RuntimeWarning: overflow encountered in exp\n",
      "  return 1/(1+np.exp(-x))\n"
     ]
    },
    {
     "ename": "KeyboardInterrupt",
     "evalue": "",
     "output_type": "error",
     "traceback": [
      "\u001b[1;31m---------------------------------------------------------------------------\u001b[0m",
      "\u001b[1;31mKeyboardInterrupt\u001b[0m                         Traceback (most recent call last)",
      "\u001b[1;32m<ipython-input-2-a0a628ff0c84>\u001b[0m in \u001b[0;36m<module>\u001b[1;34m\u001b[0m\n\u001b[0;32m      8\u001b[0m     \u001b[1;32mfor\u001b[0m \u001b[0mX\u001b[0m\u001b[1;33m,\u001b[0m \u001b[0my\u001b[0m \u001b[1;32min\u001b[0m \u001b[0mzip\u001b[0m\u001b[1;33m(\u001b[0m\u001b[0mX_init\u001b[0m\u001b[1;33m,\u001b[0m \u001b[0my_true\u001b[0m\u001b[1;33m)\u001b[0m\u001b[1;33m:\u001b[0m\u001b[1;33m\u001b[0m\u001b[1;33m\u001b[0m\u001b[0m\n\u001b[0;32m      9\u001b[0m \u001b[1;33m\u001b[0m\u001b[0m\n\u001b[1;32m---> 10\u001b[1;33m         \u001b[0my_real\u001b[0m \u001b[1;33m=\u001b[0m \u001b[0mnet\u001b[0m\u001b[1;33m.\u001b[0m\u001b[0mfeedforward\u001b[0m\u001b[1;33m(\u001b[0m\u001b[0mnp\u001b[0m\u001b[1;33m.\u001b[0m\u001b[0marray\u001b[0m\u001b[1;33m(\u001b[0m\u001b[1;33m[\u001b[0m\u001b[0mX\u001b[0m\u001b[1;33m]\u001b[0m\u001b[1;33m)\u001b[0m\u001b[1;33m)\u001b[0m\u001b[1;33m\u001b[0m\u001b[1;33m\u001b[0m\u001b[0m\n\u001b[0m\u001b[0;32m     11\u001b[0m \u001b[1;33m\u001b[0m\u001b[0m\n\u001b[0;32m     12\u001b[0m         \u001b[0merror\u001b[0m \u001b[1;33m=\u001b[0m \u001b[0mnp\u001b[0m\u001b[1;33m.\u001b[0m\u001b[0mappend\u001b[0m\u001b[1;33m(\u001b[0m\u001b[0merror\u001b[0m\u001b[1;33m,\u001b[0m \u001b[1;33m(\u001b[0m\u001b[0my\u001b[0m \u001b[1;33m-\u001b[0m \u001b[0my_real\u001b[0m\u001b[1;33m)\u001b[0m\u001b[1;33m,\u001b[0m \u001b[0maxis\u001b[0m\u001b[1;33m=\u001b[0m\u001b[1;36m0\u001b[0m\u001b[1;33m)\u001b[0m\u001b[1;33m\u001b[0m\u001b[1;33m\u001b[0m\u001b[0m\n",
      "\u001b[1;32m<ipython-input-1-3a00888e56c9>\u001b[0m in \u001b[0;36mfeedforward\u001b[1;34m(self, x)\u001b[0m\n\u001b[0;32m     28\u001b[0m     \u001b[1;31m#вычисление одного прохода сети\u001b[0m\u001b[1;33m\u001b[0m\u001b[1;33m\u001b[0m\u001b[1;33m\u001b[0m\u001b[0m\n\u001b[0;32m     29\u001b[0m     \u001b[1;32mdef\u001b[0m \u001b[0mfeedforward\u001b[0m\u001b[1;33m(\u001b[0m\u001b[0mself\u001b[0m\u001b[1;33m,\u001b[0m \u001b[0mx\u001b[0m\u001b[1;33m)\u001b[0m\u001b[1;33m:\u001b[0m\u001b[1;33m\u001b[0m\u001b[1;33m\u001b[0m\u001b[0m\n\u001b[1;32m---> 30\u001b[1;33m         \u001b[0mout_h1\u001b[0m \u001b[1;33m=\u001b[0m \u001b[0mself\u001b[0m\u001b[1;33m.\u001b[0m\u001b[0mhide_1\u001b[0m\u001b[1;33m.\u001b[0m\u001b[0mfeedforward\u001b[0m\u001b[1;33m(\u001b[0m\u001b[0mx\u001b[0m\u001b[1;33m)\u001b[0m\u001b[1;33m\u001b[0m\u001b[1;33m\u001b[0m\u001b[0m\n\u001b[0m\u001b[0;32m     31\u001b[0m         \u001b[0mout_h2\u001b[0m \u001b[1;33m=\u001b[0m \u001b[0mself\u001b[0m\u001b[1;33m.\u001b[0m\u001b[0mhide_2\u001b[0m\u001b[1;33m.\u001b[0m\u001b[0mfeedforward\u001b[0m\u001b[1;33m(\u001b[0m\u001b[0mnp\u001b[0m\u001b[1;33m.\u001b[0m\u001b[0marray\u001b[0m\u001b[1;33m(\u001b[0m\u001b[0mout_h1\u001b[0m\u001b[1;33m)\u001b[0m\u001b[1;33m)\u001b[0m\u001b[1;33m\u001b[0m\u001b[1;33m\u001b[0m\u001b[0m\n\u001b[0;32m     32\u001b[0m         \u001b[0mout_o\u001b[0m \u001b[1;33m=\u001b[0m \u001b[0mself\u001b[0m\u001b[1;33m.\u001b[0m\u001b[0mout\u001b[0m\u001b[1;33m.\u001b[0m\u001b[0mfeedforward\u001b[0m\u001b[1;33m(\u001b[0m\u001b[0mnp\u001b[0m\u001b[1;33m.\u001b[0m\u001b[0marray\u001b[0m\u001b[1;33m(\u001b[0m\u001b[0mout_h2\u001b[0m\u001b[1;33m)\u001b[0m\u001b[1;33m)\u001b[0m\u001b[1;33m\u001b[0m\u001b[1;33m\u001b[0m\u001b[0m\n",
      "\u001b[1;32m<ipython-input-1-3a00888e56c9>\u001b[0m in \u001b[0;36mfeedforward\u001b[1;34m(self, inputs)\u001b[0m\n\u001b[0;32m     42\u001b[0m     \u001b[1;32mdef\u001b[0m \u001b[0mfeedforward\u001b[0m\u001b[1;33m(\u001b[0m\u001b[0mself\u001b[0m\u001b[1;33m,\u001b[0m \u001b[0minputs\u001b[0m\u001b[1;33m)\u001b[0m\u001b[1;33m:\u001b[0m\u001b[1;33m\u001b[0m\u001b[1;33m\u001b[0m\u001b[0m\n\u001b[0;32m     43\u001b[0m \u001b[1;33m\u001b[0m\u001b[0m\n\u001b[1;32m---> 44\u001b[1;33m         \u001b[0mself\u001b[0m\u001b[1;33m.\u001b[0m\u001b[0mprev\u001b[0m \u001b[1;33m=\u001b[0m \u001b[0mnp\u001b[0m\u001b[1;33m.\u001b[0m\u001b[0mdot\u001b[0m\u001b[1;33m(\u001b[0m\u001b[0minputs\u001b[0m\u001b[1;33m,\u001b[0m \u001b[0mself\u001b[0m\u001b[1;33m.\u001b[0m\u001b[0mweights\u001b[0m \u001b[1;33m)\u001b[0m\u001b[1;33m\u001b[0m\u001b[1;33m\u001b[0m\u001b[0m\n\u001b[0m\u001b[0;32m     45\u001b[0m         \u001b[1;32mreturn\u001b[0m \u001b[0msigmoid\u001b[0m\u001b[1;33m(\u001b[0m\u001b[0mself\u001b[0m\u001b[1;33m.\u001b[0m\u001b[0mprev\u001b[0m\u001b[1;33m)\u001b[0m\u001b[1;33m\u001b[0m\u001b[1;33m\u001b[0m\u001b[0m\n",
      "\u001b[1;32m<__array_function__ internals>\u001b[0m in \u001b[0;36mdot\u001b[1;34m(*args, **kwargs)\u001b[0m\n",
      "\u001b[1;31mKeyboardInterrupt\u001b[0m: "
     ]
    }
   ],
   "source": [
    "\n",
    "np.random.seed(1)\n",
    "\n",
    "net = OurNeuralNetwork()\n",
    "\n",
    "for j in range(4000):\n",
    "    error =np.array([[0,0]])\n",
    "    flag = 1\n",
    "    for X, y in zip(X_init, y_true):\n",
    "    \n",
    "        y_real = net.feedforward(np.array([X])) # Расчет выходных значений\n",
    "\n",
    "        error = np.append(error, (y - y_real), axis=0) # Расчет ошибки\n",
    "        if flag:\n",
    "            error = np.delete(error, [0,0], axis=0)\n",
    "            flag = 0\n",
    "\n",
    "        delta = error[-1]*d_sigmoid(net.out.prev) #  дельта выходного значения до необходимого \n",
    "        h2_error = delta.dot(net.out.weights.T) # пересчет ошибки для скрытых слоев\n",
    "        h2_delta = h2_error * d_sigmoid(net.hide_2.prev) #  дельта выходного значения второго скрытого слоя до необходимого\n",
    "        \n",
    "        h1_error = h2_delta.dot(net.hide_2.weights.T) \n",
    "        h1_delta = h1_error * d_sigmoid(net.hide_1.prev)#  дельта выходного значения первого до необходимого\n",
    "        \n",
    "        # пересчет весов на основе дельт\n",
    "        net.out.weights += 0.6*net.hide_2.prev.T.dot(delta)\n",
    "        net.hide_2.weights += 0.3*net.hide_1.prev.T.dot(h2_delta)\n",
    "        net.hide_1.weights += 0.3*np.array([X]).T.dot(h1_delta)\n",
    "    if (j% 1000) == 999:\n",
    "        print (\"Error: \" + str(np.mean(np.abs(error.T[0]))) +\" \" + str(np.mean(np.abs(error.T[1]))))\n",
    "prtint('Работа завершена')"
   ]
  },
  {
   "cell_type": "code",
   "execution_count": 525,
   "metadata": {},
   "outputs": [
    {
     "data": {
      "text/plain": [
       "array([[0.8739431 , 0.13773251],\n",
       "       [0.19907859, 0.14580485],\n",
       "       [0.43939136, 0.69699563],\n",
       "       [0.73081566, 0.90833274]])"
      ]
     },
     "execution_count": 525,
     "metadata": {},
     "output_type": "execute_result"
    }
   ],
   "source": [
    "net.feedforward(np.array([[0.1, 0.9],\n",
    "                         [0.15, 0.21],\n",
    "                         [0.65, 0.45],\n",
    "                         [0.97, 0.72]]))"
   ]
  },
  {
   "cell_type": "code",
   "execution_count": 228,
   "metadata": {},
   "outputs": [],
   "source": []
  },
  {
   "cell_type": "code",
   "execution_count": 219,
   "metadata": {},
   "outputs": [],
   "source": []
  }
 ],
 "metadata": {
  "kernelspec": {
   "display_name": "Python 3",
   "language": "python",
   "name": "python3"
  },
  "language_info": {
   "codemirror_mode": {
    "name": "ipython",
    "version": 3
   },
   "file_extension": ".py",
   "mimetype": "text/x-python",
   "name": "python",
   "nbconvert_exporter": "python",
   "pygments_lexer": "ipython3",
   "version": "3.8.6"
  }
 },
 "nbformat": 4,
 "nbformat_minor": 4
}
