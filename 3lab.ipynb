{
 "cells": [
  {
   "cell_type": "code",
   "execution_count": 415,
   "metadata": {},
   "outputs": [],
   "source": [
    "import numpy as np\n",
    "\n",
    "def sigmoid(x):\n",
    "\treturn 1/(1+np.exp(-x))\n",
    "\n",
    "def d_sigmoid(x):\n",
    "    f = sigmoid(x)\n",
    "    return f*(1-f)\n",
    "\n",
    "\n",
    "X_init = [[np.random.random(), np.random.random()] for i in range(5000)]\n",
    "y_true = []\n",
    "for i in range(5000):\n",
    "    y_true.append(X_init[i].copy())\n",
    "    X_init[i].reverse()\n",
    "X_init = np.array(X_init)\n",
    "y_true = np.array(y_true)"
   ]
  },
  {
   "cell_type": "code",
   "execution_count": 416,
   "metadata": {
    "scrolled": true
   },
   "outputs": [
    {
     "data": {
      "text/plain": [
       "array([[0.8856219 , 0.88823775]])"
      ]
     },
     "execution_count": 416,
     "metadata": {},
     "output_type": "execute_result"
    }
   ],
   "source": [
    "y_real"
   ]
  },
  {
   "cell_type": "code",
   "execution_count": 387,
   "metadata": {},
   "outputs": [
    {
     "data": {
      "text/plain": [
       "array([0.03760544, 0.8869384 ])"
      ]
     },
     "execution_count": 387,
     "metadata": {},
     "output_type": "execute_result"
    }
   ],
   "source": [
    "X_init[-1]"
   ]
  },
  {
   "cell_type": "code",
   "execution_count": 524,
   "metadata": {
    "scrolled": true
   },
   "outputs": [
    {
     "name": "stdout",
     "output_type": "stream",
     "text": [
      "Error: 0.032941765261380554 0.03264377747048169\n",
      "Error: 0.027118574265267308 0.026054978511487643\n"
     ]
    },
    {
     "name": "stderr",
     "output_type": "stream",
     "text": [
      "<ipython-input-415-ab45a405ef2b>:4: RuntimeWarning: overflow encountered in exp\n",
      "  return 1/(1+np.exp(-x))\n"
     ]
    },
    {
     "name": "stdout",
     "output_type": "stream",
     "text": [
      "Error: 0.027238585053961737 0.02496123758514034\n",
      "Error: 0.028994165365958044 0.0226025340413705\n",
      "1\n"
     ]
    }
   ],
   "source": [
    "\n",
    "np.random.seed(1)\n",
    "\n",
    "# случайно инициализируем веса, в среднем - 0\n",
    "net = OurNeuralNetwork()\n",
    "\n",
    "for j in range(4000):\n",
    "    error =np.array([[0,0]])\n",
    "    flag = 1\n",
    "    for X, y in zip(X_init, y_true):\n",
    "    \n",
    "        y_real = net.feedforward(np.array([X]))\n",
    "\n",
    "        error = np.append(error, (y - y_real), axis=0)\n",
    "        if flag:\n",
    "            error = np.delete(error, [0,0], axis=0)\n",
    "            flag = 0\n",
    "\n",
    "        delta = error[-1]*d_sigmoid(net.out.prev)\n",
    "        h2_error = delta.dot(net.out.weights.T)\n",
    "        h2_delta = h2_error * d_sigmoid(net.hide_2.prev)\n",
    "        h1_error = h2_delta.dot(net.hide_2.weights.T)\n",
    "        h1_delta = h1_error * d_sigmoid(net.hide_1.prev)\n",
    "\n",
    "        net.out.weights += 0.6*net.hide_2.prev.T.dot(delta)\n",
    "        net.hide_2.weights += 0.3*net.hide_1.prev.T.dot(h2_delta)\n",
    "        net.hide_1.weights += 0.3*np.array([X]).T.dot(h1_delta)\n",
    "    if (j% 1000) == 99:\n",
    "        print (\"Error: \" + str(np.mean(np.abs(error.T[0]))) +\" \" + str(np.mean(np.abs(error.T[1]))))\n",
    "        #print(net.out.weights)\n",
    "print('1')"
   ]
  },
  {
   "cell_type": "code",
   "execution_count": 525,
   "metadata": {},
   "outputs": [
    {
     "data": {
      "text/plain": [
       "array([[0.8739431 , 0.13773251],\n",
       "       [0.19907859, 0.14580485],\n",
       "       [0.43939136, 0.69699563],\n",
       "       [0.73081566, 0.90833274]])"
      ]
     },
     "execution_count": 525,
     "metadata": {},
     "output_type": "execute_result"
    }
   ],
   "source": [
    "net.feedforward(np.array([[0.1, 0.9],\n",
    "                         [0.15, 0.21],\n",
    "                         [0.65, 0.45],\n",
    "                         [0.97, 0.72]]))"
   ]
  },
  {
   "cell_type": "code",
   "execution_count": 228,
   "metadata": {},
   "outputs": [],
   "source": [
    "class OurNeuralNetwork:\n",
    "\n",
    "    def __init__(self):\n",
    "        \n",
    "        self.hide_1 = Neuron_layer(2*np.random.random((2,4)) - 1)\n",
    "        self.hide_2 = Neuron_layer(2*np.random.random((4,4)) - 1)\n",
    "        self.out = Neuron_layer(2*np.random.random((4,2)) - 1)\n",
    " \n",
    "    def feedforward(self, x):\n",
    "        out_h1 = self.hide_1.feedforward(x)\n",
    "        out_h2 = self.hide_2.feedforward(np.array(out_h1))\n",
    "        out_o = self.out.feedforward(np.array(out_h2))\n",
    " \n",
    "        return out_o"
   ]
  },
  {
   "cell_type": "code",
   "execution_count": 219,
   "metadata": {},
   "outputs": [],
   "source": [
    "class Neuron_layer:\n",
    "    def __init__(self, weights):\n",
    "        self.weights = weights\n",
    "        self.prev = weights\n",
    "    def feedforward(self, inputs):\n",
    "        # Вводные данные о весе, добавление смещения \n",
    "        # и последующее использование функции активации\n",
    " \n",
    "        self.prev = np.dot(inputs, self.weights )\n",
    "        return sigmoid(self.prev)"
   ]
  }
 ],
 "metadata": {
  "kernelspec": {
   "display_name": "Python 3",
   "language": "python",
   "name": "python3"
  },
  "language_info": {
   "codemirror_mode": {
    "name": "ipython",
    "version": 3
   },
   "file_extension": ".py",
   "mimetype": "text/x-python",
   "name": "python",
   "nbconvert_exporter": "python",
   "pygments_lexer": "ipython3",
   "version": "3.8.6"
  }
 },
 "nbformat": 4,
 "nbformat_minor": 4
}
